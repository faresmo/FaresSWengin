{
 "cells": [
  {
   "metadata": {},
   "cell_type": "markdown",
   "source": [
    "# This session:\n",
    "\n",
    "## reinforce:\n",
    "- API call + knobs\n",
    "- Prompt engineering\n",
    "- completion vs chat \n",
    "- non-determinism -> they're generative models\n",
    "- structured outputs\n",
    "\n",
    "## Frameworks: what to know\n",
    "## Shapes of LLM usage: pipeline vs agent\n",
    "## A start to an SDLC - by building out an app\n",
    "- unit test\n",
    "- integration test\n",
    "- evaluation\n",
    "\n",
    "## Things we might get to:\n",
    "- We shipped to prod, now what?\n"
   ],
   "id": "340fb2fdb3b1d327"
  },
  {
   "metadata": {
    "ExecuteTime": {
     "end_time": "2024-11-06T22:30:59.801472Z",
     "start_time": "2024-11-06T22:30:59.783780Z"
    }
   },
   "cell_type": "code",
   "source": "",
   "id": "de1a171bca667b05",
   "outputs": [
    {
     "data": {
      "text/plain": [
       "\"\\n \\n - API call + knobs\\n - prompt engineering\\n - completion vs chat\\n - non-determinism -> they're generative models\\n - shapes of LLM usage: pipeline (rigid structure) versus agent (making decisions as to what to do next)\\n - evaluating an output (some basic overview)\\n - what is an embedding (some basic overview)\\n - what is a vector store (some basic overview)\\n - prompt context creation (what RAG is)\\n - structured outputs & function calling (why, when)\\n - observability needs over all of this (micro vs macro)\\n - SDLC to fit this all in (agile doesn't work, need to account for iteration needs + observability + getting into the data)\\n - frameworks: know what you’re buying into\\n \""
      ]
     },
     "execution_count": 1,
     "metadata": {},
     "output_type": "execute_result"
    }
   ],
   "execution_count": 1
  },
  {
   "metadata": {},
   "cell_type": "markdown",
   "source": [
    "# Frameworks should\n",
    "## 1. Reduce code you need to write\n",
    "## 2. But also not slow you down\n",
    "### demos vs productions have different needs.\n",
    "\n",
    "## You only really understand the value of a framework when you understand what it is trying to reduce / provide"
   ],
   "id": "68976ded69ec4ee5"
  },
  {
   "metadata": {},
   "cell_type": "markdown",
   "source": [
    "# Spectrum\n",
    "\n",
    "## 1. Giga libraries / all-in-one:\n",
    "### Opinionated Framework + off-the-shelf implementations / ecosystem that you buy-into. \n",
    "#### E.g. langchain, llama-index, etc.\n",
    "#### Large dependencies\n",
    "\n",
    "## 2. \"Construction\" (glue) frameworks:\n",
    "### Good at help you connect your business logic without getting in the way.\n",
    "### They are neutral and allow you to bring in other tools easily.\n",
    "#### E.g. FastAPI, django, pytorch, Burr, Hamilton\n",
    "#### Small dependencies\n",
    "\n",
    "# Question: which do you want to use when?\n",
    "\n",
    "##  Why is it important to understand what's being sent to the LLM?"
   ],
   "id": "14b75b4427d31eeb"
  },
  {
   "metadata": {},
   "cell_type": "markdown",
   "source": [
    "# Recruiting email assistant\n",
    "You're a hiring manager/recruiter and are tasked with cold or warm outreach to get candidates to interview. We're going to slowly build out a little application and try to reinforce some first principles here.\n",
    "\n",
    "## V0. Burr introduction\n",
    "\n",
    "\n",
    "## V1. Given a LinkedIn PDF extract information from it.\n",
    "Tasks:\n",
    "- See what you can get the LLM to do\n",
    "- Can you get it to extract information in a structured manner?\n",
    "- What if you tweak the input prompt or data? How consistent is this behavior?\n",
    "- What if you add more and more to be extracted? How well does it perform?\n",
    "\n",
    "Reinforce:\n",
    "  - API knobs\n",
    "  - Structured output APIs\n",
    "\n",
    "## V1.5 Instructor introduction\n",
    "\n",
    "\n",
    "## V2. Given a LinkedIn PDF extract information and populate an email template using structured output\n",
    "\n",
    "Tasks:\n",
    "  - fill in the structured output\n",
    "  - connect to email template\n",
    "  - talk evaluating performance\n",
    "  - unit testing, etc.\n",
    "\n",
    "## V3. Adding in agent + HIL\n",
    "Tasks:\n",
    "  - provide prompt to create email\n",
    "  - fill in the structured output\n",
    "  - add in loop\n",
    "  - chat API\n",
    "  - compare contrast with V2 from a productionization standpoint \n",
    "  - how to evaluate (user edits?)\n",
    "\n",
    "## V4. Extensions\n",
    "- RAG: searching for a candidate given job reqs to send email to\n",
    "- Function calling: get the weather given the location of the candidate\n"
   ],
   "id": "c04562a692fac89d"
  },
  {
   "metadata": {},
   "cell_type": "code",
   "outputs": [],
   "execution_count": null,
   "source": [
    "# TODO:\n",
    "# "
   ],
   "id": "50152a7af3e32ca2"
  }
 ],
 "metadata": {
  "kernelspec": {
   "display_name": "Python 3",
   "language": "python",
   "name": "python3"
  },
  "language_info": {
   "codemirror_mode": {
    "name": "ipython",
    "version": 2
   },
   "file_extension": ".py",
   "mimetype": "text/x-python",
   "name": "python",
   "nbconvert_exporter": "python",
   "pygments_lexer": "ipython2",
   "version": "2.7.6"
  }
 },
 "nbformat": 4,
 "nbformat_minor": 5
}
